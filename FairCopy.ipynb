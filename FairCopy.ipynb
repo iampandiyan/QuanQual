{
 "cells": [
  {
   "cell_type": "code",
   "execution_count": null,
   "id": "178944f3-db51-458b-97ca-b6ebc55365ea",
   "metadata": {},
   "outputs": [],
   "source": [
    "from Univariate import Univariate\n",
    "import pandas as pd\n",
    "dataset=pd.read_csv(\"Placement.csv\")\n",
    "dataset"
   ]
  },
  {
   "cell_type": "code",
   "execution_count": null,
   "id": "bc245f57-dc9a-4301-b87d-449686d1e72b",
   "metadata": {},
   "outputs": [],
   "source": [
    "quan,qual=Univariate.quanQual(dataset)"
   ]
  },
  {
   "cell_type": "code",
   "execution_count": null,
   "id": "412c890a-e338-4f84-95b5-40f0f28b343f",
   "metadata": {},
   "outputs": [],
   "source": [
    "quan"
   ]
  },
  {
   "cell_type": "code",
   "execution_count": null,
   "id": "10d2ba03-b2b7-438d-8069-4966b0622c2e",
   "metadata": {},
   "outputs": [],
   "source": [
    "qual"
   ]
  }
 ],
 "metadata": {
  "kernelspec": {
   "display_name": "Python 3 (ipykernel)",
   "language": "python",
   "name": "python3"
  },
  "language_info": {
   "codemirror_mode": {
    "name": "ipython",
    "version": 3
   },
   "file_extension": ".py",
   "mimetype": "text/x-python",
   "name": "python",
   "nbconvert_exporter": "python",
   "pygments_lexer": "ipython3",
   "version": "3.11.7"
  }
 },
 "nbformat": 4,
 "nbformat_minor": 5
}
